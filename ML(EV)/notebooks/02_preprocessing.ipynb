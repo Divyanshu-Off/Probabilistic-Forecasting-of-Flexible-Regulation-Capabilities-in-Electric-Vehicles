{
 "cells": [
  {
   "cell_type": "code",
   "execution_count": 1,
   "id": "9c00d770",
   "metadata": {},
   "outputs": [
    {
     "name": "stderr",
     "output_type": "stream",
     "text": [
      "c:\\Users\\divya\\AppData\\Local\\Programs\\Python\\Python313\\Lib\\site-packages\\tqdm\\auto.py:21: TqdmWarning: IProgress not found. Please update jupyter and ipywidgets. See https://ipywidgets.readthedocs.io/en/stable/user_install.html\n",
      "  from .autonotebook import tqdm as notebook_tqdm\n"
     ]
    },
    {
     "name": "stdout",
     "output_type": "stream",
     "text": [
      "Dataset downloaded to: C:\\Users\\divya\\.cache\\kagglehub\\datasets\\valakhorasani\\electric-vehicle-charging-patterns\\versions\\1\n"
     ]
    }
   ],
   "source": [
    "from kagglehub import dataset_download\n",
    "import pandas as pd\n",
    "import os\n",
    "\n",
    "path = dataset_download(\"valakhorasani/electric-vehicle-charging-patterns\")\n",
    "print(\"Dataset downloaded to:\", path)"
   ]
  },
  {
   "cell_type": "code",
   "execution_count": 2,
   "id": "027b57dd",
   "metadata": {},
   "outputs": [
    {
     "name": "stdout",
     "output_type": "stream",
     "text": [
      "Files inside dataset: ['ev_charging_patterns.csv']\n",
      "Original shape: (1320, 20)\n",
      "  User ID Vehicle Model  Battery Capacity (kWh) Charging Station ID  \\\n",
      "0  User_1        BMW i3              108.463007         Station_391   \n",
      "1  User_2  Hyundai Kona              100.000000         Station_428   \n",
      "2  User_3    Chevy Bolt               75.000000         Station_181   \n",
      "3  User_4  Hyundai Kona               50.000000         Station_327   \n",
      "4  User_5  Hyundai Kona               50.000000         Station_108   \n",
      "\n",
      "  Charging Station Location  Charging Start Time    Charging End Time  \\\n",
      "0                   Houston  2024-01-01 00:00:00  2024-01-01 00:39:00   \n",
      "1             San Francisco  2024-01-01 01:00:00  2024-01-01 03:01:00   \n",
      "2             San Francisco  2024-01-01 02:00:00  2024-01-01 04:48:00   \n",
      "3                   Houston  2024-01-01 03:00:00  2024-01-01 06:42:00   \n",
      "4               Los Angeles  2024-01-01 04:00:00  2024-01-01 05:46:00   \n",
      "\n",
      "   Energy Consumed (kWh)  Charging Duration (hours)  Charging Rate (kW)  \\\n",
      "0              60.712346                   0.591363           36.389181   \n",
      "1              12.339275                   3.133652           30.677735   \n",
      "2              19.128876                   2.452653           27.513593   \n",
      "3              79.457824                   1.266431           32.882870   \n",
      "4              19.629104                   2.019765           10.215712   \n",
      "\n",
      "   Charging Cost (USD) Time of Day Day of Week  State of Charge (Start %)  \\\n",
      "0            13.087717     Evening     Tuesday                  29.371576   \n",
      "1            21.128448     Morning      Monday                  10.115778   \n",
      "2            35.667270     Morning    Thursday                   6.854604   \n",
      "3            13.036239     Evening    Saturday                  83.120003   \n",
      "4            10.161471     Morning    Saturday                  54.258950   \n",
      "\n",
      "   State of Charge (End %)  Distance Driven (since last charge) (km)  \\\n",
      "0                86.119962                                293.602111   \n",
      "1                84.664344                                112.112804   \n",
      "2                69.917615                                 71.799253   \n",
      "3                99.624328                                199.577785   \n",
      "4                63.743786                                203.661847   \n",
      "\n",
      "   Temperature (°C)  Vehicle Age (years)     Charger Type  \\\n",
      "0         27.947953                  2.0  DC Fast Charger   \n",
      "1         14.311026                  3.0          Level 1   \n",
      "2         21.002002                  2.0          Level 2   \n",
      "3         38.316313                  1.0          Level 1   \n",
      "4         -7.834199                  1.0          Level 1   \n",
      "\n",
      "                User Type  \n",
      "0                Commuter  \n",
      "1           Casual Driver  \n",
      "2                Commuter  \n",
      "3  Long-Distance Traveler  \n",
      "4  Long-Distance Traveler  \n"
     ]
    }
   ],
   "source": [
    "files = os.listdir(path)\n",
    "print(\"Files inside dataset:\", files)\n",
    "\n",
    "df = pd.read_csv(os.path.join(path, files[0]))\n",
    "print(\"Original shape:\", df.shape)\n",
    "print(df.head())"
   ]
  },
  {
   "cell_type": "code",
   "execution_count": 3,
   "id": "fb454548",
   "metadata": {},
   "outputs": [
    {
     "name": "stdout",
     "output_type": "stream",
     "text": [
      "After cleaning: (1131, 20)\n"
     ]
    }
   ],
   "source": [
    "df = df.drop_duplicates()\n",
    "\n",
    "# Handle missing values\n",
    "df = df.dropna()   # or df.fillna(0) if you prefer\n",
    "\n",
    "print(\"After cleaning:\", df.shape)"
   ]
  },
  {
   "cell_type": "code",
   "execution_count": 5,
   "id": "5689e4c9",
   "metadata": {},
   "outputs": [],
   "source": [
    "# Convert start/end times to datetime (using correct column names)\n",
    "df['Charging Start Time'] = pd.to_datetime(df['Charging Start Time'])\n",
    "df['Charging End Time'] = pd.to_datetime(df['Charging End Time'])\n",
    "\n",
    "# Session duration in minutes\n",
    "df['duration_min'] = (df['Charging End Time'] - df['Charging Start Time']).dt.total_seconds() / 60\n",
    "\n",
    "# Hour of day & day of week\n",
    "df['start_hour'] = df['Charging Start Time'].dt.hour\n",
    "df['day_of_week'] = df['Charging Start Time'].dt.dayofweek   # 0 = Monday, 6 = Sunday\n",
    "\n",
    "# Weekend flag\n",
    "df['is_weekend'] = df['day_of_week'].apply(lambda x: 1 if x >= 5 else 0)\n",
    "\n",
    "# Flexible regulation capability (dummy example for V2G)\n",
    "# Assume 30% of charged energy (kWh) can be discharged back to grid\n",
    "df['flexible_kW'] = df['Energy Consumed (kWh)'] * 0.3  "
   ]
  },
  {
   "cell_type": "code",
   "execution_count": 18,
   "id": "c604f5d5",
   "metadata": {},
   "outputs": [
    {
     "name": "stdout",
     "output_type": "stream",
     "text": [
      "Processed dataset saved to: ../results/processed_ev_data.csv\n",
      "  User ID Vehicle Model  Battery Capacity (kWh) Charging Station ID  \\\n",
      "0  User_1        BMW i3              108.463007         Station_391   \n",
      "1  User_2  Hyundai Kona              100.000000         Station_428   \n",
      "2  User_3    Chevy Bolt               75.000000         Station_181   \n",
      "3  User_4  Hyundai Kona               50.000000         Station_327   \n",
      "4  User_5  Hyundai Kona               50.000000         Station_108   \n",
      "\n",
      "  Charging Station Location Charging Start Time   Charging End Time  \\\n",
      "0                   Houston 2024-01-01 00:00:00 2024-01-01 00:39:00   \n",
      "1             San Francisco 2024-01-01 01:00:00 2024-01-01 03:01:00   \n",
      "2             San Francisco 2024-01-01 02:00:00 2024-01-01 04:48:00   \n",
      "3                   Houston 2024-01-01 03:00:00 2024-01-01 06:42:00   \n",
      "4               Los Angeles 2024-01-01 04:00:00 2024-01-01 05:46:00   \n",
      "\n",
      "   Energy Consumed (kWh)  Charging Duration (hours)  Charging Rate (kW)  ...  \\\n",
      "0              60.712346                   0.591363           36.389181  ...   \n",
      "1              12.339275                   3.133652           30.677735  ...   \n",
      "2              19.128876                   2.452653           27.513593  ...   \n",
      "3              79.457824                   1.266431           32.882870  ...   \n",
      "4              19.629104                   2.019765           10.215712  ...   \n",
      "\n",
      "   Distance Driven (since last charge) (km) Temperature (°C)  \\\n",
      "0                                293.602111        27.947953   \n",
      "1                                112.112804        14.311026   \n",
      "2                                 71.799253        21.002002   \n",
      "3                                199.577785        38.316313   \n",
      "4                                203.661847        -7.834199   \n",
      "\n",
      "  Vehicle Age (years)     Charger Type               User Type  duration_min  \\\n",
      "0                 2.0  DC Fast Charger                Commuter          39.0   \n",
      "1                 3.0          Level 1           Casual Driver         121.0   \n",
      "2                 2.0          Level 2                Commuter         168.0   \n",
      "3                 1.0          Level 1  Long-Distance Traveler         222.0   \n",
      "4                 1.0          Level 1  Long-Distance Traveler         106.0   \n",
      "\n",
      "   start_hour  day_of_week is_weekend flexible_kW  \n",
      "0           0            0          0   18.213704  \n",
      "1           1            0          0    3.701783  \n",
      "2           2            0          0    5.738663  \n",
      "3           3            0          0   23.837347  \n",
      "4           4            0          0    5.888731  \n",
      "\n",
      "[5 rows x 25 columns]\n"
     ]
    }
   ],
   "source": [
    "# Ensure the directory exists before saving\n",
    "processed_path = \"../results/processed_ev_data.csv\"\n",
    "os.makedirs(os.path.dirname(processed_path), exist_ok=True)\n",
    "df.to_csv(processed_path, index=False)\n",
    "\n",
    "print(\"Processed dataset saved to:\", processed_path)\n",
    "print(df.head())"
   ]
  }
 ],
 "metadata": {
  "kernelspec": {
   "display_name": "Python 3",
   "language": "python",
   "name": "python3"
  },
  "language_info": {
   "codemirror_mode": {
    "name": "ipython",
    "version": 3
   },
   "file_extension": ".py",
   "mimetype": "text/x-python",
   "name": "python",
   "nbconvert_exporter": "python",
   "pygments_lexer": "ipython3",
   "version": "3.13.7"
  }
 },
 "nbformat": 4,
 "nbformat_minor": 5
}
